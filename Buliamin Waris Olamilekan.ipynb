{
 "cells": [
  {
   "cell_type": "markdown",
   "id": "00ca1f27-03b2-48da-a2c2-88f103c3b677",
   "metadata": {},
   "source": [
    "## Student Grade Evalution"
   ]
  },
  {
   "cell_type": "code",
   "execution_count": 10,
   "id": "2fe9e80d-4930-4025-9c37-697a66519db8",
   "metadata": {},
   "outputs": [
    {
     "name": "stdout",
     "output_type": "stream",
     "text": [
      "Student1: Score=23  Grade=F\n",
      "Student2: Score=56  Grade=D\n",
      "Student3: Score=80  Grade=A\n",
      "Student4: Score=10  Grade=F\n",
      "Student5: Score=78  Grade=B\n",
      "Student6: Score=89  Grade=A\n",
      "Student7: Score=79  Grade=B\n"
     ]
    }
   ],
   "source": [
    "# list of student score\n",
    "scores=[23,56,80,10,78,89,79]\n",
    "# function for grading student score\n",
    "def student_Score(scores):\n",
    "    if score >= 80: \n",
    "        Grade=\"A\"\n",
    "    elif 70 <= score <=79:\n",
    "        Grade=\"B\"\n",
    "    elif 60 <= score <=69:\n",
    "        Grade=\"C\"\n",
    "    elif 50 <= score <=99:\n",
    "        Grade=\"D\"\n",
    "    else:\n",
    "        Grade =\"F\"\n",
    "    return Grade\n",
    "# iterating through the student score and grading them by calling the grading function\n",
    "for i,score in enumerate(scores,start=1):\n",
    "    grade=student_Score(scores)\n",
    "    #printing the student number,score and the grade\n",
    "    print(f\"Student{i}: Score={score}  Grade={grade}\")\n",
    "    "
   ]
  },
  {
   "cell_type": "markdown",
   "id": "5928c854-952e-43f0-85e5-674673b18c49",
   "metadata": {},
   "source": [
    "## Atm Simulator"
   ]
  },
  {
   "cell_type": "code",
   "execution_count": 2,
   "id": "17e91ad9-6445-4d21-9180-2c5ce1b2c0ea",
   "metadata": {},
   "outputs": [],
   "source": [
    "#the Whole atm logic inside a function \n",
    "def Atm_machine():\n",
    "# the intial Balance\n",
    "    Balance=10000\n",
    "# showing the banking option to the user\n",
    "    while True:\n",
    "            print( \"\"\"      Banking Options\n",
    "        1. Check balance\n",
    "        2. Deposit Money\n",
    "        3. Withdrawn Money\n",
    "        4. Exit\n",
    "        \"\"\")\n",
    "# taking input from the user\n",
    "            user_option=int(input(\"select your option\"))\n",
    "# conditon to execute based on the user options(input)\n",
    "            if user_option ==1:\n",
    "                print(f\"Your Current balance is: {Balance}\")\n",
    "            elif user_option == 2:\n",
    "                Amount=int(input(\"Enter amount\"))\n",
    "                Balance += Amount\n",
    "                print(f\"Your Current balance is: {Balance}\")\n",
    "            elif user_option == 3:\n",
    "                Amount=int(input(\"Enter amount\"))\n",
    "                Balance-=Amount\n",
    "                print(f\"Your Current balance is: {Balance}\")\n",
    "            elif user_option == 4:\n",
    "                print(\"Thanks for using our Banking System\")\n",
    "                break"
   ]
  },
  {
   "cell_type": "code",
   "execution_count": 3,
   "id": "c35e974c-8856-4740-8bed-ce436533b5d8",
   "metadata": {},
   "outputs": [
    {
     "name": "stdout",
     "output_type": "stream",
     "text": [
      "      Banking Options\n",
      "        1. Check balance\n",
      "        2. Deposit Money\n",
      "        3. Withdrawn Money\n",
      "        4. Exit\n",
      "        \n"
     ]
    },
    {
     "name": "stdin",
     "output_type": "stream",
     "text": [
      "select your option 1\n"
     ]
    },
    {
     "name": "stdout",
     "output_type": "stream",
     "text": [
      "Your Current balance is: 10000\n",
      "      Banking Options\n",
      "        1. Check balance\n",
      "        2. Deposit Money\n",
      "        3. Withdrawn Money\n",
      "        4. Exit\n",
      "        \n"
     ]
    },
    {
     "name": "stdin",
     "output_type": "stream",
     "text": [
      "select your option 3\n",
      "Enter amount 800\n"
     ]
    },
    {
     "name": "stdout",
     "output_type": "stream",
     "text": [
      "Your Current balance is: 9200\n",
      "      Banking Options\n",
      "        1. Check balance\n",
      "        2. Deposit Money\n",
      "        3. Withdrawn Money\n",
      "        4. Exit\n",
      "        \n"
     ]
    },
    {
     "name": "stdin",
     "output_type": "stream",
     "text": [
      "select your option 4\n"
     ]
    },
    {
     "name": "stdout",
     "output_type": "stream",
     "text": [
      "Thanks for using our Banking System\n"
     ]
    }
   ],
   "source": [
    "Atm_machine()"
   ]
  },
  {
   "cell_type": "code",
   "execution_count": null,
   "id": "d639a07b-d1da-4bb2-b536-fb2975e61aec",
   "metadata": {},
   "outputs": [],
   "source": []
  }
 ],
 "metadata": {
  "kernelspec": {
   "display_name": "Python 3 (ipykernel)",
   "language": "python",
   "name": "python3"
  },
  "language_info": {
   "codemirror_mode": {
    "name": "ipython",
    "version": 3
   },
   "file_extension": ".py",
   "mimetype": "text/x-python",
   "name": "python",
   "nbconvert_exporter": "python",
   "pygments_lexer": "ipython3",
   "version": "3.13.5"
  }
 },
 "nbformat": 4,
 "nbformat_minor": 5
}
